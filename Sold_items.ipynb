{
 "cells": [
  {
   "cell_type": "code",
   "execution_count": 1,
   "metadata": {},
   "outputs": [],
   "source": [
    "import json\n",
    "\n",
    "fp = open(\"products.json\", \"r\")\n",
    "data = fp.read()\n",
    "fp. close()\n",
    "\n",
    "records = json.loads(data)"
   ]
  },
  {
   "cell_type": "code",
   "execution_count": 2,
   "metadata": {},
   "outputs": [
    {
     "data": {
      "text/plain": [
       "dict"
      ]
     },
     "execution_count": 2,
     "metadata": {},
     "output_type": "execute_result"
    }
   ],
   "source": [
    "type(records)"
   ]
  },
  {
   "cell_type": "markdown",
   "metadata": {},
   "source": [
    "### New Records"
   ]
  },
  {
   "cell_type": "code",
   "execution_count": 4,
   "metadata": {},
   "outputs": [
    {
     "data": {
      "text/plain": [
       "{'name': 'Blue Ocean Mango Water',\n",
       " 'qty': 50,\n",
       " 'price': 60,\n",
       " 'isAvailable': 1,\n",
       " 'Expiry': '30/1/2022'}"
      ]
     },
     "execution_count": 4,
     "metadata": {},
     "output_type": "execute_result"
    }
   ],
   "source": [
    "records['26']"
   ]
  },
  {
   "cell_type": "code",
   "execution_count": 6,
   "metadata": {},
   "outputs": [
    {
     "name": "stdout",
     "output_type": "stream",
     "text": [
      "Enter the product id:22\n",
      "Enter the quantity of product bought:15\n",
      "Enter custmer name:Urfa\n",
      "Enter customer mobile number:6399982567\n",
      "*************************************\n",
      " Bill \n",
      "*************************************\n",
      "Customer name: Urfa\n",
      "Customer mobile no: 6399982567\n",
      "____________________________________\n",
      "Product id: 22\n",
      "Product name: Nescafe Cold Intense Coffee\n",
      "quantity: 15\n",
      "price: 60\n",
      "____________________________________\n",
      "Total Amount: 900 \n",
      "\n"
     ]
    }
   ],
   "source": [
    "product_id = input(\"Enter the product id:\")\n",
    "qty = int(input(\"Enter the quantity of product bought:\"))\n",
    "cst_name = input(\"Enter custmer name:\")\n",
    "cst_mob = input(\"Enter customer mobile number:\")\n",
    "if product_id in records.keys() and records[product_id]['isAvailable']==1:\n",
    "    if (qty <= records[product_id]['qty']):\n",
    "        # Generate the bill:\n",
    "        print(\"*************************************\\n Bill \\n*************************************\")\n",
    "        print(\"Customer name:\",cst_name)\n",
    "        print(\"Customer mobile no:\", cst_mob)\n",
    "        print(\"____________________________________\")\n",
    "        print(\"Product id:\",product_id)\n",
    "        print(\"Product name:\",records[product_id]['name'])\n",
    "        print(\"quantity:\",qty)\n",
    "        print(\"price:\",records[product_id]['price'])\n",
    "        print(\"____________________________________\")\n",
    "        print(\"Total Amount:\", qty * records[product_id]['price'],\"\\n\")\n",
    "        \n",
    "        # update the qty in the records\n",
    "        records[product_id]['qty'] -= qty\n",
    "        \n",
    "        if (records[product_id]['qty'] == 0):\n",
    "            records[product_id]['isAvailable']=0\n",
    "    else:\n",
    "        print(\"The given product is not available in the given quantity\")\n",
    "else:\n",
    "    print(\"Wrong product id or product currently not available\")"
   ]
  },
  {
   "cell_type": "markdown",
   "metadata": {},
   "source": [
    "### Updation of the changes in the records.json file:"
   ]
  },
  {
   "cell_type": "code",
   "execution_count": 7,
   "metadata": {},
   "outputs": [],
   "source": [
    "data = json.dumps(records)\n",
    "\n",
    "fp = open(\"products.json\", \"w\")\n",
    "fp.write(data)\n",
    "fp.close()"
   ]
  },
  {
   "cell_type": "code",
   "execution_count": 8,
   "metadata": {},
   "outputs": [],
   "source": [
    "initial_sales_count = {'n_sales' : 0}\n",
    "data = json.dumps(initial_sales_count)\n",
    "\n",
    "fp = open(\"sales.json\", 'w')\n",
    "fp.write(data)\n",
    "fp.close()"
   ]
  },
  {
   "cell_type": "markdown",
   "metadata": {},
   "source": [
    "### Recording Time"
   ]
  },
  {
   "cell_type": "code",
   "execution_count": 9,
   "metadata": {},
   "outputs": [
    {
     "name": "stdout",
     "output_type": "stream",
     "text": [
      "Mon Sep  6 16:18:50 2021\n"
     ]
    },
    {
     "data": {
      "text/plain": [
       "str"
      ]
     },
     "execution_count": 9,
     "metadata": {},
     "output_type": "execute_result"
    }
   ],
   "source": [
    "import time \n",
    "dt = time.ctime()\n",
    "print(dt)\n",
    "type(dt)"
   ]
  },
  {
   "cell_type": "code",
   "execution_count": 10,
   "metadata": {},
   "outputs": [],
   "source": [
    "import json\n",
    "import time\n",
    "\n",
    "def purchase():\n",
    "    fp = open(\"products.json\", \"r\")\n",
    "    data = fp.read()\n",
    "    fp. close()\n",
    "\n",
    "    records = json.loads(data)\n",
    "    product_id = input(\"Enter the product id:\")\n",
    "    qty = int(input(\"Enter the quantity of product bought:\"))\n",
    "    cst_name = input(\"Enter custmer name:\")\n",
    "    cst_mob = input(\"Enter customer mobile number:\")\n",
    "    if product_id in records.keys() and records[product_id]['isAvailable']==1:\n",
    "        if (qty <= records[product_id]['qty']):\n",
    "            print(\"*************************************\\n Bill \\n*************************************\")\n",
    "            print(\"Customer name:\",cst_name)\n",
    "            print(\"Customer mobile no:\", cst_mob)\n",
    "            print(\"____________________________________\")\n",
    "            print(\"Product id:\",product_id)\n",
    "            print(\"Product name:\",records[product_id]['name'])\n",
    "            print(\"quantity:\",qty)\n",
    "            print(\"price:\",records[product_id]['price'])\n",
    "            print(\"____________________________________\")\n",
    "            print(\"Total Amount:\", qty * records[product_id]['price'],\"\\n\")\n",
    "\n",
    "            # update the qty in the records\n",
    "            records[product_id]['qty'] -= qty\n",
    "\n",
    "            if (records[product_id]['qty'] == 0):\n",
    "                records[product_id]['isAvailable']=0\n",
    "        else:\n",
    "            print(\"The given product is not available in the given quantity\")\n",
    "    else:\n",
    "        print(\"Wrong product id or product currently not available\")\n",
    "    data = json.dumps(records)\n",
    "\n",
    "    fp = open(\"records.json\", \"w\")\n",
    "    fp.write(data)\n",
    "    fp.close()\n",
    "    \n",
    "    # updating the sales\n",
    "    sales_fp = open(\"sales.json\", \"r\")\n",
    "    data = sales_fp.read()\n",
    "    sales_fp.close()\n",
    "\n",
    "    sales = json.loads(data)\n",
    "\n",
    "    sales['n_sales'] +=1\n",
    "    i = sales['n_sales']\n",
    "\n",
    "    sale = {'date and time':time.ctime(),\n",
    "            'product id':product_id,\n",
    "            'name':records[product_id]['name'],\n",
    "            'amount':qty * records[product_id]['price'],\n",
    "            'customer name':cst_name,\n",
    "            'customer mobile':cst_mob}\n",
    "    sales[i] = sale\n",
    "     \n",
    "    \n",
    "    # updating in the sales.json file\n",
    "    data = json.dumps(sales)\n",
    "\n",
    "    sales_fp = open(\"sales.json\", \"w\")\n",
    "    sales_fp.write(data)\n",
    "    sales_fp.close()"
   ]
  },
  {
   "cell_type": "code",
   "execution_count": 12,
   "metadata": {},
   "outputs": [
    {
     "name": "stdout",
     "output_type": "stream",
     "text": [
      "Enter the product id:22\n",
      "Enter the quantity of product bought:2\n",
      "Enter custmer name:Urfa\n",
      "Enter customer mobile number:6399982567\n",
      "*************************************\n",
      " Bill \n",
      "*************************************\n",
      "Customer name: Urfa\n",
      "Customer mobile no: 6399982567\n",
      "____________________________________\n",
      "Product id: 22\n",
      "Product name: Nescafe Cold Intense Coffee\n",
      "quantity: 2\n",
      "price: 60\n",
      "____________________________________\n",
      "Total Amount: 120 \n",
      "\n"
     ]
    }
   ],
   "source": [
    "purchase()"
   ]
  },
  {
   "cell_type": "code",
   "execution_count": null,
   "metadata": {},
   "outputs": [],
   "source": []
  }
 ],
 "metadata": {
  "kernelspec": {
   "display_name": "Python 3",
   "language": "python",
   "name": "python3"
  },
  "language_info": {
   "codemirror_mode": {
    "name": "ipython",
    "version": 3
   },
   "file_extension": ".py",
   "mimetype": "text/x-python",
   "name": "python",
   "nbconvert_exporter": "python",
   "pygments_lexer": "ipython3",
   "version": "3.7.6"
  }
 },
 "nbformat": 4,
 "nbformat_minor": 4
}
