{
 "cells": [
  {
   "cell_type": "code",
   "execution_count": 2,
   "metadata": {},
   "outputs": [],
   "source": [
    "inventory = {\"1\": {\"name\": \"Fanta\", \"qty\": 80, \"price\": 30, \"isAvailable\": 1, \"Expiry\": \"15/12/2021\"}, \n",
    "             \"2\": {\"name\": \"Nimbooz\", \"qty\": 100, \"price\": 20, \"isAvailable\": 1, \"Expiry\": \"10/10/2021\"}, \n",
    "             \"3\": {\"name\": \"Thums Up\", \"qty\": 200, \"price\": 45, \"isAvailable\": 1, \"Expiry\": \"15/1/2022\"}, \n",
    "             \"4\": {\"name\": \"Pepsi\", \"qty\": 200, \"price\": 60, \"isAvailable\": 1, \"Expiry\": \"10/12/2021\"}, \n",
    "             \"5\": {\"name\": \"Mirinda\", \"qty\": 20, \"price\": 30, \"isAvailable\": 1, \"Expiry\": \"15/12/2021\"}, \n",
    "             \"6\": {\"name\": \"Coca-Cola\", \"qty\": 50, \"price\": 60, \"isAvailable\": 1, \"Expiry\": \"15/12/2021\"}, \n",
    "             \"7\": {\"name\": \"Sprite\", \"qty\": 50, \"price\": 50, \"isAvailable\": 1, \"Expiry\": \"30/11/2021\"}, \n",
    "             \"8\": {\"name\": \"Coca-Cola Black\", \"qty\": 50, \"price\": 80, \"isAvailable\": 1, \"Expiry\": \"1/05/2022\"}, \n",
    "             \"9\": {\"name\": \"Diet Coke\", \"qty\": 500, \"price\": 70, \"isAvailable\": 1, \"Expiry\": \"31/12/2021\"}, \n",
    "             \"10\": {\"name\": \"Nimbu Paani\", \"qty\": 300, \"price\": 15, \"isAvailable\": 1, \"Expiry\": \"31/10/2022\"}, \n",
    "             \"11\": {\"name\": \"Limca\", \"qty\": 100, \"price\": 20, \"isAvailable\": 1, \"Expiry\": \"31/10/2022\"}, \n",
    "             \"12\": {\"name\": \"Coca-Cola Zero Sugar\", \"qty\": 100, \"price\": 55, \"isAvailable\": 1, \"Expiry\": \"31/12/2021\"}, \n",
    "             \"13\": {\"name\": \"Mountain Dew\", \"qty\": 80, \"price\": 35, \"isAvailable\": 1, \"Expiry\": \"1/12/2021\"}, \n",
    "             \"14\": {\"name\": \"7 Up\", \"qty\": 100, \"price\": 20, \"isAvailable\": 1, \"Expiry\": \"1/12/2021\"}, \n",
    "             \"15\": {\"name\": \"Diet Mountain Dew\", \"qty\": 10, \"price\": 45, \"isAvailable\": 1, \"Expiry\": \"15/12/2021\"}, \n",
    "             \"16\": {\"name\": \"Dr Pepper\", \"qty\": 50, \"price\": 30, \"isAvailable\": 1, \"Expiry\": \"31/10/2021\"}, \n",
    "             \"17\": {\"name\": \"Lipton Iced-tea\", \"qty\": 100, \"price\": 30, \"isAvailable\": 1, \"Expiry\": \"15/1/2022\"}, \n",
    "             \"18\": {\"name\": \"Real Orange Juice\", \"qty\": 80, \"price\": 50, \"isAvailable\": 1, \"Expiry\": \"1/3/2022\"}, \n",
    "             \"19\": {\"name\": \"Real Mixed Fruit Juice\", \"qty\": 300, \"price\": 120, \"isAvailable\": 1, \"Expiry\": \"1/1/2022\"}, \n",
    "             \"20\": {\"name\": \"Real Apple Juice\", \"qty\": 25, \"price\": 30, \"isAvailable\": 1, \"Expiry\": \"1/1/2022\"}, \n",
    "             \"21\": {\"name\": \"Real Litchi Juice\", \"qty\": 30, \"price\": 30, \"isAvailable\": 1, \"Expiry\": \"1/1/2022\"}, \n",
    "             \"22\": {\"name\": \"Nescafe Cold Intense Coffee\", \"qty\": 30, \"price\": 60, \"isAvailable\": 1, \"Expiry\": \"1/3/2022\"}, \n",
    "             \"23\": {\"name\": \"Nescafe HazelNut Latte\", \"qty\": 100, \"price\": 45, \"isAvailable\": 1, \"Expiry\": \"1/1/2022\"}, \n",
    "             \"24\": {\"name\": \"Sting\", \"qty\": 500, \"price\": 500, \"isAvailable\": 1, \"Expiry\": \"1/10/2022\"}, \n",
    "             \"25\": {\"name\": \"Red Bull\", \"qty\": 100, \"price\": 300, \"isAvailable\": 1, \"Expiry\": \"1/10/2022\"}} "
   ]
  },
  {
   "cell_type": "code",
   "execution_count": 3,
   "metadata": {},
   "outputs": [
    {
     "data": {
      "text/plain": [
       "dict"
      ]
     },
     "execution_count": 3,
     "metadata": {},
     "output_type": "execute_result"
    }
   ],
   "source": [
    "type(inventory)"
   ]
  },
  {
   "cell_type": "code",
   "execution_count": 6,
   "metadata": {},
   "outputs": [],
   "source": [
    "import json"
   ]
  },
  {
   "cell_type": "code",
   "execution_count": 9,
   "metadata": {},
   "outputs": [],
   "source": [
    "data = json.dumps(inventory)\n",
    "\n",
    "fp = open(\"products.json\", \"w\")\n",
    "fp.write(data)\n",
    "fp.close()"
   ]
  },
  {
   "cell_type": "code",
   "execution_count": null,
   "metadata": {},
   "outputs": [],
   "source": []
  },
  {
   "cell_type": "markdown",
   "metadata": {},
   "source": [
    "Adding New Items In The Inventory"
   ]
  },
  {
   "cell_type": "code",
   "execution_count": 10,
   "metadata": {},
   "outputs": [
    {
     "name": "stdout",
     "output_type": "stream",
     "text": [
      "Enter the product id:2\n",
      "Enter the product name:Nimbooz\n",
      "Enter the quantity:15\n",
      "Enter the price of the product:20\n",
      "is the product available:[1/0]:1\n",
      "Enter expiry date:10/10/2021\n"
     ]
    }
   ],
   "source": [
    "product_id = input(\"Enter the product id:\")\n",
    "name = input(\"Enter the product name:\")\n",
    "qty = int(input(\"Enter the quantity:\"))\n",
    "price = int(input(\"Enter the price of the product:\"))\n",
    "isAvailable = int(input(\"is the product available:[1/0]:\"))\n",
    "expiry = input(\"Enter expiry date:\")"
   ]
  },
  {
   "cell_type": "markdown",
   "metadata": {},
   "source": [
    "## Displaying the previous records"
   ]
  },
  {
   "cell_type": "code",
   "execution_count": 11,
   "metadata": {},
   "outputs": [],
   "source": [
    "fp = open(\"products.json\", \"r\")\n",
    "data = fp.read()\n",
    "fp.close()\n",
    "\n",
    "prev_records = json.loads(data)"
   ]
  },
  {
   "cell_type": "code",
   "execution_count": 12,
   "metadata": {},
   "outputs": [
    {
     "data": {
      "text/plain": [
       "{'name': 'Nimbooz',\n",
       " 'qty': 100,\n",
       " 'price': 20,\n",
       " 'isAvailable': 1,\n",
       " 'Expiry': '10/10/2021'}"
      ]
     },
     "execution_count": 12,
     "metadata": {},
     "output_type": "execute_result"
    }
   ],
   "source": [
    "prev_records[product_id]"
   ]
  },
  {
   "cell_type": "code",
   "execution_count": 13,
   "metadata": {},
   "outputs": [
    {
     "data": {
      "text/plain": [
       "dict"
      ]
     },
     "execution_count": 13,
     "metadata": {},
     "output_type": "execute_result"
    }
   ],
   "source": [
    "type(prev_records)"
   ]
  },
  {
   "cell_type": "markdown",
   "metadata": {},
   "source": [
    "### Inserting new records in the \"products.json\" file or updating if the product id is already existing"
   ]
  },
  {
   "cell_type": "code",
   "execution_count": 14,
   "metadata": {},
   "outputs": [],
   "source": [
    "if (product_id in prev_records.keys()):\n",
    "    prev_records[product_id]['qty'] += qty\n",
    "else:\n",
    "    prev_records[product_id] = { 'name': name,\n",
    "                             'qty': qty,\n",
    "                             'price': price,\n",
    "                             'isAvailable': isAvailable,\n",
    "                             'Expiry': expiry}"
   ]
  },
  {
   "cell_type": "code",
   "execution_count": 15,
   "metadata": {},
   "outputs": [
    {
     "data": {
      "text/plain": [
       "{'name': 'Nimbooz',\n",
       " 'qty': 115,\n",
       " 'price': 20,\n",
       " 'isAvailable': 1,\n",
       " 'Expiry': '10/10/2021'}"
      ]
     },
     "execution_count": 15,
     "metadata": {},
     "output_type": "execute_result"
    }
   ],
   "source": [
    "prev_records[product_id]"
   ]
  },
  {
   "cell_type": "code",
   "execution_count": 17,
   "metadata": {},
   "outputs": [
    {
     "name": "stdout",
     "output_type": "stream",
     "text": [
      "Enter the product id:26\n",
      "Enter the product name:Blue Ocean Mango Water\n",
      "Enter the quantity:50\n",
      "Enter the price of the product:60\n",
      "is the product available:[1/0]:1\n",
      "Enter expiry date:30/1/2022\n",
      "do you want to add another record? [yes: 1/ No :0]0\n"
     ]
    }
   ],
   "source": [
    "def add_new_inventory():\n",
    "    \n",
    "    # taking input from the user\n",
    "    product_id = input(\"Enter the product id:\")\n",
    "    name = input(\"Enter the product name:\")\n",
    "    qty = int(input(\"Enter the quantity:\"))\n",
    "    price = int(input(\"Enter the price of the product:\"))\n",
    "    isAvailable = int(input(\"is the product available:[1/0]:\"))\n",
    "    expiry = input(\"Enter expiry date:\")\n",
    "    fp = open(\"products.json\", \"r\")\n",
    "    data = fp.read()\n",
    "    fp.close()\n",
    "    prev_records = json.loads(data)\n",
    "    if (product_id in prev_records.keys()):\n",
    "        prev_records[product_id]['qty'] += qty\n",
    "    else:\n",
    "        prev_records[product_id] = { 'name': name,\n",
    "                                 'qty': qty,\n",
    "                                 'price': price,\n",
    "                                 'isAvailable': isAvailable,\n",
    "                                 'Expiry': expiry}\n",
    "    data = json.dumps(prev_records)\n",
    "    fp = open(\"products.json\", 'w')\n",
    "    fp.write(data)\n",
    "    fp.close()\n",
    "a = 1\n",
    "while(a==1):\n",
    "    add_new_inventory()\n",
    "    a = int(input(\"do you want to add another record? [yes: 1/ No :0]\"))"
   ]
  },
  {
   "cell_type": "code",
   "execution_count": null,
   "metadata": {},
   "outputs": [],
   "source": []
  }
 ],
 "metadata": {
  "kernelspec": {
   "display_name": "Python 3",
   "language": "python",
   "name": "python3"
  },
  "language_info": {
   "codemirror_mode": {
    "name": "ipython",
    "version": 3
   },
   "file_extension": ".py",
   "mimetype": "text/x-python",
   "name": "python",
   "nbconvert_exporter": "python",
   "pygments_lexer": "ipython3",
   "version": "3.7.6"
  }
 },
 "nbformat": 4,
 "nbformat_minor": 4
}
